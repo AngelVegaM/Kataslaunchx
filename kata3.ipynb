{
 "cells": [
  {
   "cell_type": "markdown",
   "metadata": {},
   "source": [
    "## PROBLEMA 1"
   ]
  },
  {
   "cell_type": "code",
   "execution_count": 1,
   "metadata": {},
   "outputs": [
    {
     "name": "stdout",
     "output_type": "stream",
     "text": [
      "¡Advertencia, asteroide acercándose a velocidad peligrosa\n"
     ]
    }
   ],
   "source": [
    "velasteroide=49\n",
    "if velasteroide > 25:\n",
    "    print(\"¡Advertencia, asteroide acercándose a velocidad peligrosa!\")\n",
    "else:\n",
    "    print(\"Todo en orden\")"
   ]
  },
  {
   "cell_type": "markdown",
   "metadata": {},
   "source": [
    "## PROBLEMA 2"
   ]
  },
  {
   "cell_type": "code",
   "execution_count": 2,
   "metadata": {},
   "outputs": [
    {
     "name": "stdout",
     "output_type": "stream",
     "text": [
      "Continúa con tu vida\n"
     ]
    }
   ],
   "source": [
    "velasteroide=19\n",
    "if velasteroide == 20:\n",
    "    print(\"¡Mira hacia el cielo!\")\n",
    "elif velasteroide > 20:\n",
    "    print(\"¡Mira hacia el cielo!\")\n",
    "else:\n",
    "    print(\"Continúa con tu vida\")\n"
   ]
  },
  {
   "cell_type": "markdown",
   "metadata": {},
   "source": [
    "## PROBLEMA 3"
   ]
  },
  {
   "cell_type": "code",
   "execution_count": 5,
   "metadata": {},
   "outputs": [
    {
     "name": "stdout",
     "output_type": "stream",
     "text": [
      "¡Mira hacia el cielo!\n"
     ]
    }
   ],
   "source": [
    "velasteroide = 25\n",
    "tamanoasteroide = 25\n",
    "if velasteroide > 25 and tamanoasteroide > 25:\n",
    "    print(\"¡Advertencia! Asteroide peligroso acercándose\")\n",
    "elif tamanoasteroide < 25:\n",
    "    print(\"Continúa con tu vida\")\n",
    "elif velasteroide >= 20:\n",
    "    print(\"¡Mira hacia el cielo!\")\n",
    "else:\n",
    "    print(\"Continúa con tu vida\")"
   ]
  }
 ],
 "metadata": {
  "interpreter": {
   "hash": "f51bf95df6c56c1c199ff908281ea273e9f10408abdcc45ff1f49b3230f35a15"
  },
  "kernelspec": {
   "display_name": "Python 3.9.2 64-bit",
   "language": "python",
   "name": "python3"
  },
  "language_info": {
   "codemirror_mode": {
    "name": "ipython",
    "version": 3
   },
   "file_extension": ".py",
   "mimetype": "text/x-python",
   "name": "python",
   "nbconvert_exporter": "python",
   "pygments_lexer": "ipython3",
   "version": "3.9.2"
  },
  "orig_nbformat": 4
 },
 "nbformat": 4,
 "nbformat_minor": 2
}
