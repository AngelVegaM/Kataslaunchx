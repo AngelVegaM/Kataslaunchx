{
 "cells": [
  {
   "cell_type": "markdown",
   "metadata": {},
   "source": [
    "## EJERCICIO 1"
   ]
  },
  {
   "cell_type": "code",
   "execution_count": 6,
   "metadata": {},
   "outputs": [
    {
     "name": "stdout",
     "output_type": "stream",
     "text": [
      "La distancia en kilómetros es de:  628949330\n",
      "La distancia en kilómetros es de: 390577533\n"
     ]
    }
   ],
   "source": [
    "dtierra = 149597870\n",
    "djupiter = 778547200\n",
    "distanciakm = abs(dtierra - djupiter)\n",
    "print(\"La distancia en kilómetros es de: \", distanciakm)\n",
    "distanciami = int(distancia * 0.621)\n",
    "print(\"La distancia en millas es de:\", distanciami)"
   ]
  },
  {
   "cell_type": "markdown",
   "metadata": {},
   "source": [
    "## EJERCICIO 2"
   ]
  },
  {
   "cell_type": "code",
   "execution_count": 3,
   "metadata": {},
   "outputs": [
    {
     "name": "stdout",
     "output_type": "stream",
     "text": [
      "La distancia en km es de :  50300000\n",
      "La distancia en millas es de :  31236300\n"
     ]
    }
   ],
   "source": [
    "planeta1 = input(\"Introduzca la distancia del sol al planeta 1\")\n",
    "planeta2 = input(\"Introduzca la distancia del sol al planeta 2\")\n",
    "\n",
    "planeta1 = int(planeta1)\n",
    "planeta2 = int(planeta2)\n",
    "distanciakm = (planeta2 - planeta1)\n",
    "print(\"La distancia en km es de : \", abs(distanciakm))\n",
    "\n",
    "distanciami = int(distanciakm * 0.621)\n",
    "print(\"La distancia en millas es de : \", abs(distanciami))"
   ]
  }
 ],
 "metadata": {
  "interpreter": {
   "hash": "f51bf95df6c56c1c199ff908281ea273e9f10408abdcc45ff1f49b3230f35a15"
  },
  "kernelspec": {
   "display_name": "Python 3.9.2 64-bit",
   "language": "python",
   "name": "python3"
  },
  "language_info": {
   "codemirror_mode": {
    "name": "ipython",
    "version": 3
   },
   "file_extension": ".py",
   "mimetype": "text/x-python",
   "name": "python",
   "nbconvert_exporter": "python",
   "pygments_lexer": "ipython3",
   "version": "3.9.2"
  },
  "orig_nbformat": 4
 },
 "nbformat": 4,
 "nbformat_minor": 2
}
