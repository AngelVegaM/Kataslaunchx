{
 "cells": [
  {
   "cell_type": "code",
   "execution_count": null,
   "metadata": {},
   "outputs": [],
   "source": []
  },
  {
   "cell_type": "markdown",
   "metadata": {},
   "source": [
    "## EJERCICIO 1"
   ]
  },
  {
   "cell_type": "code",
   "execution_count": 4,
   "metadata": {},
   "outputs": [
    {
     "name": "stdout",
     "output_type": "stream",
     "text": [
      "Existen 8 planetas\n",
      "Existen 9 planetas y el último planeta de la lista es:  Pluton\n"
     ]
    }
   ],
   "source": [
    "planets = ['Mercury', 'Venus', 'Earth', 'Mars', 'Jupiter', 'Saturn', 'Uranus', 'Neptune']\n",
    "print(\"Existen\", len(planets), \"planetas\")\n",
    "\n",
    "planets.append('Pluton')\n",
    "print(\"Existen\", len(planets), \"planetas y el último planeta de la lista es: \", planets[-1])\n"
   ]
  },
  {
   "cell_type": "markdown",
   "metadata": {},
   "source": [
    "## EJERCICIO 2"
   ]
  },
  {
   "cell_type": "code",
   "execution_count": 1,
   "metadata": {},
   "outputs": [
    {
     "name": "stdout",
     "output_type": "stream",
     "text": [
      "Los planetas que están más cercanos al sol que el seleccionado son:  ['Mercury', 'Venus']\n",
      "Los planetas que están más lejanos al sol que el seleccionado son:  ['Mars', 'Jupiter', 'Saturn', 'Neptune']\n"
     ]
    }
   ],
   "source": [
    "planets = ['Mercury', 'Venus', 'Earth', 'Mars', 'Jupiter', 'Saturn', 'Neptune']\n",
    "planeta_seleccionado = input(\"Escribe el nombre de un planeta comenzando con mayúscula\")\n",
    "planets_index = planets.index(planeta_seleccionado)\n",
    "print(\"Los planetas que están más cercanos al sol que el seleccionado son: \", planets[0:planets_index])\n",
    "print(\"Los planetas que están más lejanos al sol que el seleccionado son: \", planets[planets_index + 1:])\n"
   ]
  }
 ],
 "metadata": {
  "interpreter": {
   "hash": "f51bf95df6c56c1c199ff908281ea273e9f10408abdcc45ff1f49b3230f35a15"
  },
  "kernelspec": {
   "display_name": "Python 3.9.2 64-bit",
   "language": "python",
   "name": "python3"
  },
  "language_info": {
   "codemirror_mode": {
    "name": "ipython",
    "version": 3
   },
   "file_extension": ".py",
   "mimetype": "text/x-python",
   "name": "python",
   "nbconvert_exporter": "python",
   "pygments_lexer": "ipython3",
   "version": "3.9.2"
  },
  "orig_nbformat": 4
 },
 "nbformat": 4,
 "nbformat_minor": 2
}
